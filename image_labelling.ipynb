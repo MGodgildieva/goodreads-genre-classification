{
 "cells": [
  {
   "cell_type": "code",
   "execution_count": 154,
   "metadata": {},
   "outputs": [],
   "source": [
    "import pickle\n",
    "import urllib.request as req\n",
    "import os\n",
    "import pandas as pd\n",
    "import numpy as np\n",
    "import os"
   ]
  },
  {
   "cell_type": "code",
   "execution_count": 59,
   "metadata": {},
   "outputs": [],
   "source": [
    "def download_images(dataframe,out_folder):\n",
    "    ids = dataframe.index.values\n",
    "    for image_id in ids:\n",
    "        url = dataframe.loc[image_id]['image_url']\n",
    "        if os.path.isfile(out_folder + '/' + str(image_id) + '.jpg') == False:\n",
    "            r = req.urlretrieve(url, out_folder + '/' + str(image_id) + '.jpg')\n",
    "    return True"
   ]
  },
  {
   "cell_type": "code",
   "execution_count": 60,
   "metadata": {},
   "outputs": [],
   "source": [
    "def return_image_name_col(df):\n",
    "    ids = df.index.values\n",
    "    names = []\n",
    "    for i in ids:\n",
    "        names.append(str(i)+'.jpg')\n",
    "    return np.array(names)"
   ]
  },
  {
   "cell_type": "code",
   "execution_count": null,
   "metadata": {},
   "outputs": [],
   "source": [
    "def return_ids_and_valid_files(df):\n",
    "    ids = df.index.values\n",
    "    valid_ids = []\n",
    "    names = []\n",
    "    "
   ]
  },
  {
   "cell_type": "code",
   "execution_count": 61,
   "metadata": {},
   "outputs": [],
   "source": [
    "#load training set\n",
    "pickle_in_train = open(\"all_books_train.pickle\",\"rb\")\n",
    "train = pickle.load(pickle_in_train)"
   ]
  },
  {
   "cell_type": "code",
   "execution_count": 62,
   "metadata": {},
   "outputs": [],
   "source": [
    "#load test set\n",
    "pickle_in_test = open(\"all_books_test.pickle\",\"rb\")\n",
    "test = pickle.load(pickle_in_test)"
   ]
  },
  {
   "cell_type": "code",
   "execution_count": 63,
   "metadata": {},
   "outputs": [
    {
     "data": {
      "text/plain": [
       "(36390, 14)"
      ]
     },
     "execution_count": 63,
     "metadata": {},
     "output_type": "execute_result"
    }
   ],
   "source": [
    "train.shape"
   ]
  },
  {
   "cell_type": "code",
   "execution_count": 64,
   "metadata": {},
   "outputs": [
    {
     "data": {
      "text/plain": [
       "(12131, 14)"
      ]
     },
     "execution_count": 64,
     "metadata": {},
     "output_type": "execute_result"
    }
   ],
   "source": [
    "test.shape"
   ]
  },
  {
   "cell_type": "code",
   "execution_count": 65,
   "metadata": {},
   "outputs": [
    {
     "data": {
      "text/html": [
       "<div>\n",
       "<style scoped>\n",
       "    .dataframe tbody tr th:only-of-type {\n",
       "        vertical-align: middle;\n",
       "    }\n",
       "\n",
       "    .dataframe tbody tr th {\n",
       "        vertical-align: top;\n",
       "    }\n",
       "\n",
       "    .dataframe thead th {\n",
       "        text-align: right;\n",
       "    }\n",
       "</style>\n",
       "<table border=\"1\" class=\"dataframe\">\n",
       "  <thead>\n",
       "    <tr style=\"text-align: right;\">\n",
       "      <th></th>\n",
       "      <th>book_authors</th>\n",
       "      <th>book_desc</th>\n",
       "      <th>book_edition</th>\n",
       "      <th>book_format</th>\n",
       "      <th>book_isbn</th>\n",
       "      <th>book_pages</th>\n",
       "      <th>book_rating</th>\n",
       "      <th>book_rating_count</th>\n",
       "      <th>book_review_count</th>\n",
       "      <th>book_title</th>\n",
       "      <th>genres</th>\n",
       "      <th>image_url</th>\n",
       "      <th>genres_list</th>\n",
       "      <th>genres_cut</th>\n",
       "    </tr>\n",
       "  </thead>\n",
       "  <tbody>\n",
       "    <tr>\n",
       "      <th>6377</th>\n",
       "      <td>Nicole Jacquelyn</td>\n",
       "      <td>\"How is it, that someone can make decision aft...</td>\n",
       "      <td>NaN</td>\n",
       "      <td>Kindle Edition</td>\n",
       "      <td>NaN</td>\n",
       "      <td>305 pages</td>\n",
       "      <td>4.02</td>\n",
       "      <td>17962</td>\n",
       "      <td>1159</td>\n",
       "      <td>Craving Constellations</td>\n",
       "      <td>Romance|Romance|Contemporary Romance|Contemporary</td>\n",
       "      <td>https://images.gr-assets.com/books/1377563339l...</td>\n",
       "      <td>[Romance, Contemporary, Contemporary Romance]</td>\n",
       "      <td>[Romance, Contemporary, Contemporary Romance]</td>\n",
       "    </tr>\n",
       "    <tr>\n",
       "      <th>19880</th>\n",
       "      <td>Adam Schell</td>\n",
       "      <td>A village in Tuscany is the setting for this j...</td>\n",
       "      <td>NaN</td>\n",
       "      <td>Hardcover</td>\n",
       "      <td>9.78039E+12</td>\n",
       "      <td>340 pages</td>\n",
       "      <td>3.74</td>\n",
       "      <td>646</td>\n",
       "      <td>161</td>\n",
       "      <td>Tomato Rhapsody: A Fable of Love, Lust &amp; Forbi...</td>\n",
       "      <td>Fiction|Historical|Historical Fiction|Cultural...</td>\n",
       "      <td>https://images.gr-assets.com/books/1320422913l...</td>\n",
       "      <td>[Historical Fiction, Fiction, Food and Drink, ...</td>\n",
       "      <td>[Historical Fiction, Fiction, Romance, Histori...</td>\n",
       "    </tr>\n",
       "    <tr>\n",
       "      <th>23352</th>\n",
       "      <td>Robert Moss</td>\n",
       "      <td>Have you ever said something was “only a dream...</td>\n",
       "      <td>NaN</td>\n",
       "      <td>Hardcover</td>\n",
       "      <td>9.78158E+12</td>\n",
       "      <td>224 pages</td>\n",
       "      <td>4.04</td>\n",
       "      <td>345</td>\n",
       "      <td>41</td>\n",
       "      <td>The Three \"Only\" Things: Tapping the Power of ...</td>\n",
       "      <td>Nonfiction|Spirituality|Psychology|Spiritualit...</td>\n",
       "      <td>https://images.gr-assets.com/books/1328746102l...</td>\n",
       "      <td>[Nonfiction, New Age, Psychology, Spirituality]</td>\n",
       "      <td>[Nonfiction]</td>\n",
       "    </tr>\n",
       "    <tr>\n",
       "      <th>16021</th>\n",
       "      <td>David Ambrose</td>\n",
       "      <td>A train of seemingly random events - coinciden...</td>\n",
       "      <td>NaN</td>\n",
       "      <td>Unknown Binding</td>\n",
       "      <td>9.78074E+12</td>\n",
       "      <td>NaN</td>\n",
       "      <td>3.35</td>\n",
       "      <td>166</td>\n",
       "      <td>18</td>\n",
       "      <td>Coincidence</td>\n",
       "      <td>Fiction|Suspense|Historical|Science Fiction|My...</td>\n",
       "      <td>https://images.gr-assets.com/books/1408924887l...</td>\n",
       "      <td>[Suspense, Fiction, Mystery, Historical, Scien...</td>\n",
       "      <td>[Fiction, Mystery, Historical, Science Fiction]</td>\n",
       "    </tr>\n",
       "    <tr>\n",
       "      <th>49981</th>\n",
       "      <td>Richard North Patterson</td>\n",
       "      <td>When the body of eleven-year-old Thuy Sen is f...</td>\n",
       "      <td>NaN</td>\n",
       "      <td>Hardcover</td>\n",
       "      <td>9.78035E+12</td>\n",
       "      <td>463 pages</td>\n",
       "      <td>3.89</td>\n",
       "      <td>2400</td>\n",
       "      <td>154</td>\n",
       "      <td>Conviction</td>\n",
       "      <td>Fiction|Mystery|Thriller|Legal Thriller|Thriller</td>\n",
       "      <td>https://images.gr-assets.com/books/1399495278l...</td>\n",
       "      <td>[Thriller, Legal Thriller, Fiction, Mystery]</td>\n",
       "      <td>[Thriller, Fiction, Mystery]</td>\n",
       "    </tr>\n",
       "  </tbody>\n",
       "</table>\n",
       "</div>"
      ],
      "text/plain": [
       "                  book_authors  \\\n",
       "6377          Nicole Jacquelyn   \n",
       "19880              Adam Schell   \n",
       "23352              Robert Moss   \n",
       "16021            David Ambrose   \n",
       "49981  Richard North Patterson   \n",
       "\n",
       "                                               book_desc book_edition  \\\n",
       "6377   \"How is it, that someone can make decision aft...          NaN   \n",
       "19880  A village in Tuscany is the setting for this j...          NaN   \n",
       "23352  Have you ever said something was “only a dream...          NaN   \n",
       "16021  A train of seemingly random events - coinciden...          NaN   \n",
       "49981  When the body of eleven-year-old Thuy Sen is f...          NaN   \n",
       "\n",
       "           book_format    book_isbn book_pages  book_rating  \\\n",
       "6377    Kindle Edition          NaN  305 pages         4.02   \n",
       "19880        Hardcover  9.78039E+12  340 pages         3.74   \n",
       "23352        Hardcover  9.78158E+12  224 pages         4.04   \n",
       "16021  Unknown Binding  9.78074E+12        NaN         3.35   \n",
       "49981        Hardcover  9.78035E+12  463 pages         3.89   \n",
       "\n",
       "       book_rating_count  book_review_count  \\\n",
       "6377               17962               1159   \n",
       "19880                646                161   \n",
       "23352                345                 41   \n",
       "16021                166                 18   \n",
       "49981               2400                154   \n",
       "\n",
       "                                              book_title  \\\n",
       "6377                              Craving Constellations   \n",
       "19880  Tomato Rhapsody: A Fable of Love, Lust & Forbi...   \n",
       "23352  The Three \"Only\" Things: Tapping the Power of ...   \n",
       "16021                                        Coincidence   \n",
       "49981                                         Conviction   \n",
       "\n",
       "                                                  genres  \\\n",
       "6377   Romance|Romance|Contemporary Romance|Contemporary   \n",
       "19880  Fiction|Historical|Historical Fiction|Cultural...   \n",
       "23352  Nonfiction|Spirituality|Psychology|Spiritualit...   \n",
       "16021  Fiction|Suspense|Historical|Science Fiction|My...   \n",
       "49981   Fiction|Mystery|Thriller|Legal Thriller|Thriller   \n",
       "\n",
       "                                               image_url  \\\n",
       "6377   https://images.gr-assets.com/books/1377563339l...   \n",
       "19880  https://images.gr-assets.com/books/1320422913l...   \n",
       "23352  https://images.gr-assets.com/books/1328746102l...   \n",
       "16021  https://images.gr-assets.com/books/1408924887l...   \n",
       "49981  https://images.gr-assets.com/books/1399495278l...   \n",
       "\n",
       "                                             genres_list  \\\n",
       "6377       [Romance, Contemporary, Contemporary Romance]   \n",
       "19880  [Historical Fiction, Fiction, Food and Drink, ...   \n",
       "23352    [Nonfiction, New Age, Psychology, Spirituality]   \n",
       "16021  [Suspense, Fiction, Mystery, Historical, Scien...   \n",
       "49981       [Thriller, Legal Thriller, Fiction, Mystery]   \n",
       "\n",
       "                                              genres_cut  \n",
       "6377       [Romance, Contemporary, Contemporary Romance]  \n",
       "19880  [Historical Fiction, Fiction, Romance, Histori...  \n",
       "23352                                       [Nonfiction]  \n",
       "16021    [Fiction, Mystery, Historical, Science Fiction]  \n",
       "49981                       [Thriller, Fiction, Mystery]  "
      ]
     },
     "execution_count": 65,
     "metadata": {},
     "output_type": "execute_result"
    }
   ],
   "source": [
    "#show training data\n",
    "train.head()"
   ]
  },
  {
   "cell_type": "code",
   "execution_count": 68,
   "metadata": {},
   "outputs": [
    {
     "data": {
      "text/plain": [
       "True"
      ]
     },
     "execution_count": 68,
     "metadata": {},
     "output_type": "execute_result"
    }
   ],
   "source": [
    "#download training images\n",
    "download_images(train,\"train_images\")"
   ]
  },
  {
   "cell_type": "code",
   "execution_count": 69,
   "metadata": {},
   "outputs": [
    {
     "data": {
      "text/plain": [
       "True"
      ]
     },
     "execution_count": 69,
     "metadata": {},
     "output_type": "execute_result"
    }
   ],
   "source": [
    "#download test images\n",
    "download_images(test, \"test_images\")"
   ]
  },
  {
   "cell_type": "code",
   "execution_count": 25,
   "metadata": {},
   "outputs": [
    {
     "name": "stderr",
     "output_type": "stream",
     "text": [
      "Using TensorFlow backend.\n"
     ]
    }
   ],
   "source": [
    "from keras.models import Sequential\n",
    "from keras_preprocessing.image import ImageDataGenerator\n",
    "from keras.layers import Dense, Activation, Flatten, Dropout, BatchNormalization\n",
    "from keras.layers import Conv2D, MaxPooling2D\n",
    "from keras import regularizers, optimizers"
   ]
  },
  {
   "cell_type": "code",
   "execution_count": 89,
   "metadata": {},
   "outputs": [],
   "source": [
    "import itertools"
   ]
  },
  {
   "cell_type": "code",
   "execution_count": 78,
   "metadata": {},
   "outputs": [],
   "source": [
    "import warnings\n",
    "warnings.filterwarnings('ignore')"
   ]
  },
  {
   "cell_type": "code",
   "execution_count": 79,
   "metadata": {},
   "outputs": [],
   "source": [
    "train_filename_col = return_image_name_col(train)"
   ]
  },
  {
   "cell_type": "code",
   "execution_count": 80,
   "metadata": {},
   "outputs": [],
   "source": [
    "train_df = train[['genres_cut']]\n",
    "train_df['file_name'] = train_filename_col"
   ]
  },
  {
   "cell_type": "code",
   "execution_count": 82,
   "metadata": {},
   "outputs": [
    {
     "data": {
      "text/html": [
       "<div>\n",
       "<style scoped>\n",
       "    .dataframe tbody tr th:only-of-type {\n",
       "        vertical-align: middle;\n",
       "    }\n",
       "\n",
       "    .dataframe tbody tr th {\n",
       "        vertical-align: top;\n",
       "    }\n",
       "\n",
       "    .dataframe thead th {\n",
       "        text-align: right;\n",
       "    }\n",
       "</style>\n",
       "<table border=\"1\" class=\"dataframe\">\n",
       "  <thead>\n",
       "    <tr style=\"text-align: right;\">\n",
       "      <th></th>\n",
       "      <th>genres_cut</th>\n",
       "      <th>file_name</th>\n",
       "    </tr>\n",
       "  </thead>\n",
       "  <tbody>\n",
       "    <tr>\n",
       "      <th>6377</th>\n",
       "      <td>[Romance, Contemporary, Contemporary Romance]</td>\n",
       "      <td>6377.jpg</td>\n",
       "    </tr>\n",
       "    <tr>\n",
       "      <th>19880</th>\n",
       "      <td>[Historical Fiction, Fiction, Romance, Histori...</td>\n",
       "      <td>19880.jpg</td>\n",
       "    </tr>\n",
       "    <tr>\n",
       "      <th>23352</th>\n",
       "      <td>[Nonfiction]</td>\n",
       "      <td>23352.jpg</td>\n",
       "    </tr>\n",
       "    <tr>\n",
       "      <th>16021</th>\n",
       "      <td>[Fiction, Mystery, Historical, Science Fiction]</td>\n",
       "      <td>16021.jpg</td>\n",
       "    </tr>\n",
       "    <tr>\n",
       "      <th>49981</th>\n",
       "      <td>[Thriller, Fiction, Mystery]</td>\n",
       "      <td>49981.jpg</td>\n",
       "    </tr>\n",
       "  </tbody>\n",
       "</table>\n",
       "</div>"
      ],
      "text/plain": [
       "                                              genres_cut  file_name\n",
       "6377       [Romance, Contemporary, Contemporary Romance]   6377.jpg\n",
       "19880  [Historical Fiction, Fiction, Romance, Histori...  19880.jpg\n",
       "23352                                       [Nonfiction]  23352.jpg\n",
       "16021    [Fiction, Mystery, Historical, Science Fiction]  16021.jpg\n",
       "49981                       [Thriller, Fiction, Mystery]  49981.jpg"
      ]
     },
     "execution_count": 82,
     "metadata": {},
     "output_type": "execute_result"
    }
   ],
   "source": [
    "train_df.head()"
   ]
  },
  {
   "cell_type": "code",
   "execution_count": 83,
   "metadata": {},
   "outputs": [
    {
     "data": {
      "text/html": [
       "<div>\n",
       "<style scoped>\n",
       "    .dataframe tbody tr th:only-of-type {\n",
       "        vertical-align: middle;\n",
       "    }\n",
       "\n",
       "    .dataframe tbody tr th {\n",
       "        vertical-align: top;\n",
       "    }\n",
       "\n",
       "    .dataframe thead th {\n",
       "        text-align: right;\n",
       "    }\n",
       "</style>\n",
       "<table border=\"1\" class=\"dataframe\">\n",
       "  <thead>\n",
       "    <tr style=\"text-align: right;\">\n",
       "      <th></th>\n",
       "      <th>genres_cut</th>\n",
       "      <th>file_name</th>\n",
       "    </tr>\n",
       "  </thead>\n",
       "  <tbody>\n",
       "    <tr>\n",
       "      <th>9102</th>\n",
       "      <td>[Romance, Fiction]</td>\n",
       "      <td>9102.jpg</td>\n",
       "    </tr>\n",
       "    <tr>\n",
       "      <th>34116</th>\n",
       "      <td>[History, Biography, Nonfiction]</td>\n",
       "      <td>34116.jpg</td>\n",
       "    </tr>\n",
       "    <tr>\n",
       "      <th>53879</th>\n",
       "      <td>[Crime, Fiction, Mystery, Thriller]</td>\n",
       "      <td>53879.jpg</td>\n",
       "    </tr>\n",
       "    <tr>\n",
       "      <th>30327</th>\n",
       "      <td>[Childrens, Fantasy]</td>\n",
       "      <td>30327.jpg</td>\n",
       "    </tr>\n",
       "    <tr>\n",
       "      <th>36487</th>\n",
       "      <td>[Young Adult, Fantasy]</td>\n",
       "      <td>36487.jpg</td>\n",
       "    </tr>\n",
       "  </tbody>\n",
       "</table>\n",
       "</div>"
      ],
      "text/plain": [
       "                                genres_cut  file_name\n",
       "9102                    [Romance, Fiction]   9102.jpg\n",
       "34116     [History, Biography, Nonfiction]  34116.jpg\n",
       "53879  [Crime, Fiction, Mystery, Thriller]  53879.jpg\n",
       "30327                 [Childrens, Fantasy]  30327.jpg\n",
       "36487               [Young Adult, Fantasy]  36487.jpg"
      ]
     },
     "execution_count": 83,
     "metadata": {},
     "output_type": "execute_result"
    }
   ],
   "source": [
    "test_filename_col = return_image_name_col(test)\n",
    "test_df = test[['genres_cut']]\n",
    "test_df['file_name'] = test_filename_col\n",
    "test_df.head()"
   ]
  },
  {
   "cell_type": "code",
   "execution_count": 248,
   "metadata": {},
   "outputs": [],
   "source": [
    "train_df_valid = train_df.copy()"
   ]
  },
  {
   "cell_type": "code",
   "execution_count": 249,
   "metadata": {},
   "outputs": [],
   "source": [
    "for index,row in train_df.iterrows():\n",
    "    path = 'train_images/' + row['file_name']\n",
    "    if os.stat(path).st_size < 1024:\n",
    "        train_df_valid.drop(index = index,inplace=True)\n",
    "    "
   ]
  },
  {
   "cell_type": "code",
   "execution_count": 250,
   "metadata": {},
   "outputs": [
    {
     "data": {
      "text/plain": [
       "(36299, 2)"
      ]
     },
     "execution_count": 250,
     "metadata": {},
     "output_type": "execute_result"
    }
   ],
   "source": [
    "train_df_valid.shape"
   ]
  },
  {
   "cell_type": "code",
   "execution_count": 253,
   "metadata": {},
   "outputs": [],
   "source": [
    "test_df_valid = test_df.copy()\n",
    "for index,row in test_df.iterrows():\n",
    "    path = 'test_images/' + row['file_name']\n",
    "    if os.stat(path).st_size < 1024:\n",
    "        test_df_valid.drop(index = index,inplace=True)"
   ]
  },
  {
   "cell_type": "code",
   "execution_count": 254,
   "metadata": {},
   "outputs": [
    {
     "data": {
      "text/plain": [
       "(12096, 2)"
      ]
     },
     "execution_count": 254,
     "metadata": {},
     "output_type": "execute_result"
    }
   ],
   "source": [
    "test_df_valid.shape"
   ]
  },
  {
   "cell_type": "code",
   "execution_count": 255,
   "metadata": {},
   "outputs": [],
   "source": [
    "all_classes = np.unique(list(itertools.chain.from_iterable(train_df['genres_cut'])))"
   ]
  },
  {
   "cell_type": "code",
   "execution_count": 292,
   "metadata": {},
   "outputs": [],
   "source": [
    "datagen=ImageDataGenerator(rescale=1./255.,validation_split=0.25)\n",
    "test_datagen=ImageDataGenerator(rescale=1./255.)"
   ]
  },
  {
   "cell_type": "code",
   "execution_count": 293,
   "metadata": {},
   "outputs": [
    {
     "name": "stdout",
     "output_type": "stream",
     "text": [
      "Found 36299 validated image filenames belonging to 25 classes.\n"
     ]
    }
   ],
   "source": [
    "train_generator=datagen.flow_from_dataframe(\n",
    "dataframe=train_df_valid,\n",
    "directory=\"train_images\",\n",
    "x_col=\"file_name\",\n",
    "y_col=\"genres_cut\",\n",
    "batch_size=32,\n",
    "seed=42,\n",
    "shuffle=True,\n",
    "class_mode=\"categorical\",\n",
    "classes=list(all_classes),\n",
    "target_size=(100,100))"
   ]
  },
  {
   "cell_type": "code",
   "execution_count": 294,
   "metadata": {},
   "outputs": [
    {
     "name": "stdout",
     "output_type": "stream",
     "text": [
      "Found 36299 validated image filenames belonging to 25 classes.\n"
     ]
    }
   ],
   "source": [
    "valid_generator=datagen.flow_from_dataframe(\n",
    "dataframe=train_df_valid,\n",
    "directory=\"train_images\",\n",
    "x_col=\"file_name\",\n",
    "y_col=\"genres_cut\",\n",
    "batch_size=32,\n",
    "seed=42,\n",
    "shuffle=True,\n",
    "class_mode=\"categorical\",\n",
    "classes=list(all_classes),\n",
    "target_size=(100,100))"
   ]
  },
  {
   "cell_type": "code",
   "execution_count": 295,
   "metadata": {},
   "outputs": [
    {
     "name": "stdout",
     "output_type": "stream",
     "text": [
      "Found 12096 validated image filenames.\n"
     ]
    }
   ],
   "source": [
    "test_generator=test_datagen.flow_from_dataframe(\n",
    "dataframe=test_df_valid,\n",
    "directory=\"test_images\",\n",
    "x_col=\"file_name\",\n",
    "y_col=None,\n",
    "batch_size=1,\n",
    "seed=42,\n",
    "shuffle=False,\n",
    "class_mode=None,\n",
    "target_size=(100,100))"
   ]
  },
  {
   "cell_type": "code",
   "execution_count": 296,
   "metadata": {},
   "outputs": [],
   "source": [
    "#bulid the model\n",
    "model = Sequential()\n",
    "model.add(Conv2D(32, (3, 3), padding='same',\n",
    "                 input_shape=(100,100,3)))\n",
    "model.add(Activation('relu'))\n",
    "model.add(Conv2D(32, (3, 3)))\n",
    "model.add(Activation('relu'))\n",
    "model.add(MaxPooling2D(pool_size=(2, 2)))\n",
    "model.add(Dropout(0.25))\n",
    "model.add(Conv2D(64, (3, 3), padding='same'))\n",
    "model.add(Activation('relu'))\n",
    "model.add(Conv2D(64, (3, 3)))\n",
    "model.add(Activation('relu'))\n",
    "model.add(MaxPooling2D(pool_size=(2, 2)))\n",
    "model.add(Dropout(0.25))\n",
    "model.add(Flatten())\n",
    "model.add(Dense(512))\n",
    "model.add(Activation('relu'))\n",
    "model.add(Dropout(0.5))\n",
    "model.add(Dense(25, activation='sigmoid'))\n",
    "model.compile(optimizers.rmsprop(lr=0.0001, decay=1e-6),loss=\"binary_crossentropy\",metrics=[\"accuracy\"])"
   ]
  },
  {
   "cell_type": "code",
   "execution_count": 297,
   "metadata": {},
   "outputs": [],
   "source": [
    "#fitting the model\n",
    "STEP_SIZE_TRAIN=train_generator.n//train_generator.batch_size\n",
    "STEP_SIZE_VALID=valid_generator.n//valid_generator.batch_size\n",
    "STEP_SIZE_TEST=test_generator.n//test_generator.batch_size"
   ]
  },
  {
   "cell_type": "code",
   "execution_count": 298,
   "metadata": {},
   "outputs": [
    {
     "name": "stdout",
     "output_type": "stream",
     "text": [
      "Epoch 1/10\n",
      "1134/1134 [==============================] - 835s 737ms/step - loss: 0.3374 - acc: 0.8788 - val_loss: 0.3402 - val_acc: 0.8827\n",
      "Epoch 2/10\n",
      "1134/1134 [==============================] - 903s 796ms/step - loss: 0.3222 - acc: 0.8822 - val_loss: 0.3210 - val_acc: 0.8843\n",
      "Epoch 3/10\n",
      "1134/1134 [==============================] - 858s 756ms/step - loss: 0.3148 - acc: 0.8839 - val_loss: 0.3081 - val_acc: 0.8858\n",
      "Epoch 4/10\n",
      "1134/1134 [==============================] - 816s 720ms/step - loss: 0.3091 - acc: 0.8850 - val_loss: 0.3034 - val_acc: 0.8861\n",
      "Epoch 5/10\n",
      "1134/1134 [==============================] - 901s 795ms/step - loss: 0.3047 - acc: 0.8861 - val_loss: 0.2967 - val_acc: 0.8883\n",
      "Epoch 6/10\n",
      "1134/1134 [==============================] - 940s 829ms/step - loss: 0.3006 - acc: 0.8867 - val_loss: 0.2927 - val_acc: 0.8889\n",
      "Epoch 7/10\n",
      "1134/1134 [==============================] - 769s 678ms/step - loss: 0.2965 - acc: 0.8878 - val_loss: 0.2881 - val_acc: 0.8897\n",
      "Epoch 8/10\n",
      "1134/1134 [==============================] - 767s 677ms/step - loss: 0.2931 - acc: 0.8887 - val_loss: 0.2847 - val_acc: 0.8908\n",
      "Epoch 9/10\n",
      "1134/1134 [==============================] - 796s 702ms/step - loss: 0.2901 - acc: 0.8896 - val_loss: 0.2895 - val_acc: 0.8912\n",
      "Epoch 10/10\n",
      "1134/1134 [==============================] - 769s 678ms/step - loss: 0.2873 - acc: 0.8904 - val_loss: 0.2791 - val_acc: 0.8930\n"
     ]
    },
    {
     "data": {
      "text/plain": [
       "<keras.callbacks.History at 0x7f8fd4a78940>"
      ]
     },
     "execution_count": 298,
     "metadata": {},
     "output_type": "execute_result"
    }
   ],
   "source": [
    "model.fit_generator(generator=train_generator,\n",
    "                    steps_per_epoch=STEP_SIZE_TRAIN,\n",
    "                    validation_data=valid_generator,\n",
    "                    validation_steps=STEP_SIZE_VALID,\n",
    "                    epochs=10\n",
    ")"
   ]
  },
  {
   "cell_type": "code",
   "execution_count": 299,
   "metadata": {},
   "outputs": [
    {
     "name": "stdout",
     "output_type": "stream",
     "text": [
      "12096/12096 [==============================] - 161s 13ms/step\n"
     ]
    }
   ],
   "source": [
    "test_generator.reset()\n",
    "pred=model.predict_generator(test_generator,\n",
    "steps=STEP_SIZE_TEST,\n",
    "verbose=1)"
   ]
  },
  {
   "cell_type": "code",
   "execution_count": 307,
   "metadata": {},
   "outputs": [],
   "source": [
    "pred_bool = (pred > 0.3)"
   ]
  },
  {
   "cell_type": "code",
   "execution_count": 308,
   "metadata": {},
   "outputs": [],
   "source": [
    "predictions=[]\n",
    "labels = train_generator.class_indices\n",
    "labels = dict((v,k) for k,v in labels.items())\n",
    "for row in pred_bool:\n",
    "    l=[]\n",
    "    for index,cls in enumerate(row):\n",
    "        if cls:\n",
    "            l.append(labels[index])\n",
    "    predictions.append(\",\".join(l))\n",
    "filenames=test_generator.filenames\n",
    "results=pd.DataFrame({\"Filename\":filenames,\n",
    "                      \"Predictions\":predictions})\n",
    "results.to_csv(\"results_keras.csv\",index=False)"
   ]
  }
 ],
 "metadata": {
  "kernelspec": {
   "display_name": "Python 3",
   "language": "python",
   "name": "python3"
  },
  "language_info": {
   "codemirror_mode": {
    "name": "ipython",
    "version": 3
   },
   "file_extension": ".py",
   "mimetype": "text/x-python",
   "name": "python",
   "nbconvert_exporter": "python",
   "pygments_lexer": "ipython3",
   "version": "3.6.6"
  }
 },
 "nbformat": 4,
 "nbformat_minor": 2
}
